{
 "cells": [
  {
   "cell_type": "code",
   "execution_count": null,
   "metadata": {
    "collapsed": true,
    "pycharm": {
     "is_executing": false
    }
   },
   "outputs": [],
   "source": [
    "import os\n",
    "import itertools\n",
    "\n",
    "import numpy as np\n",
    "import pandas as pd\n",
    "from scipy import linalg\n",
    "import matplotlib as mpl\n",
    "import matplotlib.pyplot as plt\n",
    "from sklearn.decomposition import PCA, IncrementalPCA\n",
    "from sklearn.cluster import KMeans, DBSCAN, OPTICS\n",
    "from sklearn.mixture import GaussianMixture\n",
    "from sklearn.model_selection import train_test_split\n",
    "\n",
    "color_iter = itertools.cycle(['navy', 'c', 'cornflowerblue', 'gold',\n",
    "                              'darkorange'])\n",
    "\n",
    "# Make directory\n",
    "plots_directory = \"./plots\"\n",
    "if not os.path.exists(plots_directory):\n",
    "    os.makedirs(plots_directory)\n",
    "    "
   ]
  },
  {
   "cell_type": "code",
   "execution_count": null,
   "outputs": [],
   "source": [
    "df1 = pd.read_csv(\"../data/heartbeat/ptbdb_normal.csv\", header=None)\n",
    "df2 = pd.read_csv(\"../data/heartbeat/ptbdb_abnormal.csv\", header=None)\n",
    "\n",
    "df = pd.concat([df1, df2])\n",
    "df_train, df_test = train_test_split(df, test_size=0.2, random_state=1337, stratify=df[187])\n"
   ],
   "metadata": {
    "collapsed": false,
    "pycharm": {
     "name": "#%%\n",
     "is_executing": false
    }
   }
  },
  {
   "cell_type": "code",
   "execution_count": null,
   "outputs": [],
   "source": [
    "# print(df_train.head(10))\n",
    "# print(df_train.describe())\n",
    "# \n",
    "# print(df1.head(10))\n",
    "# print(df1.describe())\n",
    "# \n",
    "# print(df2.head(10))\n",
    "# print(df2.describe())"
   ],
   "metadata": {
    "collapsed": false,
    "pycharm": {
     "name": "#%%\n",
     "is_executing": false
    }
   }
  },
  {
   "cell_type": "code",
   "execution_count": null,
   "outputs": [],
   "source": [
    "fig, axes = plt.subplots(nrows=4, ncols=5)\n",
    "\n",
    "for i, ax in enumerate(fig.axes):\n",
    "    df1.iloc[i,0:187].plot(ax=ax, color='orange')\n",
    "    ax.set_xticks([])\n",
    "    ax.set_yticks([])\n",
    "# for i in [0, 5, 10, 15]:\n",
    "#     fig.axes[i].set_yticks([0, 0.5, 1])\n",
    "for i in [15, 16, 17, 18, 19]:\n",
    "    fig.axes[i].set_xticks([0, 100, 187])    \n",
    "plt.savefig(os.path.join(plots_directory, 'ptbdb_samples1.svg'))\n",
    "plt.show()\n"
   ],
   "metadata": {
    "collapsed": false,
    "pycharm": {
     "name": "#%%\n",
     "is_executing": false
    }
   }
  },
  {
   "cell_type": "code",
   "execution_count": null,
   "outputs": [],
   "source": [
    "fig, axes = plt.subplots(nrows=4, ncols=5)\n",
    "\n",
    "for i, ax in enumerate(fig.axes):\n",
    "    df2.iloc[i,0:187].plot(ax=ax, color='orange')\n",
    "    ax.set_xticks([])\n",
    "    ax.set_yticks([])\n",
    "# for i in [0, 5, 10, 15]:\n",
    "#     fig.axes[i].set_yticks([0, 0.5, 1])\n",
    "for i in [15, 16, 17, 18, 19]:\n",
    "    fig.axes[i].set_xticks([0, 100, 187])    \n",
    "plt.savefig(os.path.join(plots_directory, 'ptbdb_samples2.svg'))\n",
    "plt.show()\n"
   ],
   "metadata": {
    "collapsed": false,
    "pycharm": {
     "name": "#%%\n",
     "is_executing": false
    }
   }
  },
  {
   "cell_type": "code",
   "execution_count": null,
   "outputs": [],
   "source": [
    "Y = df_train[187]\n",
    "X = df_train.iloc[:, :187]"
   ],
   "metadata": {
    "collapsed": false,
    "pycharm": {
     "name": "#%%\n",
     "is_executing": false
    }
   }
  },
  {
   "cell_type": "code",
   "execution_count": null,
   "outputs": [],
   "source": [
    "pca = PCA().fit(X)\n",
    "evr = np.cumsum(pca.explained_variance_ratio_)\n",
    "cut = evr[evr>=0.99][0]\n",
    "cut_index = np.where(evr == cut)"
   ],
   "metadata": {
    "collapsed": false,
    "pycharm": {
     "name": "#%% PCA Explained Variance\n",
     "is_executing": false
    }
   }
  },
  {
   "cell_type": "code",
   "execution_count": null,
   "outputs": [],
   "source": [
    "n_components = cut_index[0].item()#.item()\n",
    "ipca = IncrementalPCA(n_components=n_components, batch_size=100)\n",
    "X_ipca = ipca.fit_transform(X)\n"
   ],
   "metadata": {
    "collapsed": false,
    "pycharm": {
     "name": "#%% PCA Dimensionality Reduction\n",
     "is_executing": false
    }
   }
  },
  {
   "cell_type": "code",
   "execution_count": null,
   "outputs": [],
   "source": [
    "km = KMeans(n_clusters=2)\n",
    "y_pred_km = km.fit_predict(X=X_ipca)"
   ],
   "metadata": {
    "collapsed": false,
    "pycharm": {
     "name": "#%% KMeans Classifier\n",
     "is_executing": false
    }
   }
  },
  {
   "cell_type": "code",
   "execution_count": null,
   "outputs": [],
   "source": [
    "gmm = GaussianMixture(n_components=2, covariance_type='full',\n",
    "                              max_iter=100).fit(X_ipca)\n",
    "y_pred_gm = gmm.predict(X_ipca)"
   ],
   "metadata": {
    "collapsed": false,
    "pycharm": {
     "name": "#%% Gaussian Mixture Model\n",
     "is_executing": false
    }
   }
  },
  {
   "cell_type": "code",
   "execution_count": null,
   "outputs": [],
   "source": [
    "fig, axes = plt.subplots(nrows=2, ncols=2)\n",
    "fig.tight_layout(h_pad=3.0)\n",
    "\n",
    "###%% Explained Variance\n",
    "axes[0,0].plot(evr)\n",
    "axes[0,0].plot(cut_index, cut, 'ro')\n",
    "axes[0,0].set_xticks([0, 50, 100, 150, 187])\n",
    "axes[0,0].set_xlabel('Number of Components')\n",
    "axes[0,0].set_ylabel('Variance (%)') #for each component\n",
    "axes[0,0].set_title(\"Explained Variance\")\n",
    "\n",
    "###%% Ground Truth\n",
    "# colors = ['navy', 'turquoise', 'darkorange', 'green', 'red']\n",
    "# colors = ['#440154', '#3B528B', '#21918B', '#5EC962', '#FDE725']\n",
    "colors = ['#440154', '#FDE725']\n",
    "\n",
    "c1 = axes[0,1].scatter(X_ipca[:, 0], X_ipca[:, 1], c=Y, s=2, cmap=mpl.colors.ListedColormap(colors))\n",
    "axes[0,1].set_xlabel(\"PC1\")\n",
    "axes[0,1].set_ylabel(\"PC2\")\n",
    "axes[0,1].set_xticks([])\n",
    "axes[0,1].set_yticks([])\n",
    "axes[0,1].set_title(\"Ground Truth\")\n",
    "cb = fig.colorbar(c1, ax=axes)\n",
    "cb.set_ticks([0.25, 0.75])\n",
    "cb.set_ticklabels(['N', 'IM'])\n",
    "\n",
    "##%% KMeans Classifier\n",
    "axes[1,0].scatter(X_ipca[:, 0], X_ipca[:, 1], lw=2, c=y_pred_km, s=2, cmap=mpl.colors.ListedColormap(colors))\n",
    "axes[1,0].set_xlabel(\"PC1\")\n",
    "axes[1,0].set_ylabel(\"PC2\")\n",
    "axes[1,0].set_xticks([])\n",
    "axes[1,0].set_yticks([])\n",
    "axes[1,0].set_title(\"K-Means\")\n",
    "\n",
    "##%% Gaussian Mixture Model\n",
    "axes[1,1].scatter(X_ipca[:, 0], X_ipca[:, 1], lw=2, c=y_pred_gm, s=2, cmap=mpl.colors.ListedColormap(colors))\n",
    "axes[1,1].set_xlabel(\"PC1\")\n",
    "axes[1,1].set_ylabel(\"PC2\")\n",
    "axes[1,1].set_xticks([])\n",
    "axes[1,1].set_yticks([])\n",
    "axes[1,1].set_title(\"GMM\")\n",
    "\n",
    "plt.savefig(os.path.join(plots_directory, 'ptbdb_clustering.png'), dpi=600)\n",
    "plt.show()"
   ],
   "metadata": {
    "collapsed": false,
    "pycharm": {
     "name": "#%%\n",
     "is_executing": false
    }
   }
  }
 ],
 "metadata": {
  "kernelspec": {
   "display_name": "Python 3",
   "language": "python",
   "name": "python3"
  },
  "language_info": {
   "codemirror_mode": {
    "name": "ipython",
    "version": 2
   },
   "file_extension": ".py",
   "mimetype": "text/x-python",
   "name": "python",
   "nbconvert_exporter": "python",
   "pygments_lexer": "ipython2",
   "version": "2.7.6"
  },
  "pycharm": {
   "stem_cell": {
    "cell_type": "raw",
    "source": [],
    "metadata": {
     "collapsed": false
    }
   }
  }
 },
 "nbformat": 4,
 "nbformat_minor": 0
}